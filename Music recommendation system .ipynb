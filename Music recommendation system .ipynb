{
 "cells": [
  {
   "cell_type": "code",
   "execution_count": 42,
   "id": "9de5ef92",
   "metadata": {},
   "outputs": [],
   "source": [
    "import pandas as pd"
   ]
  },
  {
   "cell_type": "code",
   "execution_count": 43,
   "id": "dfdb9b8b",
   "metadata": {},
   "outputs": [],
   "source": [
    "df = pd.read_csv(\"spotify_millsongdata.csv\") # Import the dataset"
   ]
  },
  {
   "cell_type": "code",
   "execution_count": 44,
   "id": "03ca82fe",
   "metadata": {},
   "outputs": [
    {
     "data": {
      "text/html": [
       "<div>\n",
       "<style scoped>\n",
       "    .dataframe tbody tr th:only-of-type {\n",
       "        vertical-align: middle;\n",
       "    }\n",
       "\n",
       "    .dataframe tbody tr th {\n",
       "        vertical-align: top;\n",
       "    }\n",
       "\n",
       "    .dataframe thead th {\n",
       "        text-align: right;\n",
       "    }\n",
       "</style>\n",
       "<table border=\"1\" class=\"dataframe\">\n",
       "  <thead>\n",
       "    <tr style=\"text-align: right;\">\n",
       "      <th></th>\n",
       "      <th>artist</th>\n",
       "      <th>song</th>\n",
       "      <th>link</th>\n",
       "      <th>text</th>\n",
       "    </tr>\n",
       "  </thead>\n",
       "  <tbody>\n",
       "    <tr>\n",
       "      <th>0</th>\n",
       "      <td>ABBA</td>\n",
       "      <td>Ahe's My Kind Of Girl</td>\n",
       "      <td>/a/abba/ahes+my+kind+of+girl_20598417.html</td>\n",
       "      <td>Look at her face, it's a wonderful face  \\r\\nA...</td>\n",
       "    </tr>\n",
       "    <tr>\n",
       "      <th>1</th>\n",
       "      <td>ABBA</td>\n",
       "      <td>Andante, Andante</td>\n",
       "      <td>/a/abba/andante+andante_20002708.html</td>\n",
       "      <td>Take it easy with me, please  \\r\\nTouch me gen...</td>\n",
       "    </tr>\n",
       "    <tr>\n",
       "      <th>2</th>\n",
       "      <td>ABBA</td>\n",
       "      <td>As Good As New</td>\n",
       "      <td>/a/abba/as+good+as+new_20003033.html</td>\n",
       "      <td>I'll never know why I had to go  \\r\\nWhy I had...</td>\n",
       "    </tr>\n",
       "    <tr>\n",
       "      <th>3</th>\n",
       "      <td>ABBA</td>\n",
       "      <td>Bang</td>\n",
       "      <td>/a/abba/bang_20598415.html</td>\n",
       "      <td>Making somebody happy is a question of give an...</td>\n",
       "    </tr>\n",
       "    <tr>\n",
       "      <th>4</th>\n",
       "      <td>ABBA</td>\n",
       "      <td>Bang-A-Boomerang</td>\n",
       "      <td>/a/abba/bang+a+boomerang_20002668.html</td>\n",
       "      <td>Making somebody happy is a question of give an...</td>\n",
       "    </tr>\n",
       "  </tbody>\n",
       "</table>\n",
       "</div>"
      ],
      "text/plain": [
       "  artist                   song                                        link  \\\n",
       "0   ABBA  Ahe's My Kind Of Girl  /a/abba/ahes+my+kind+of+girl_20598417.html   \n",
       "1   ABBA       Andante, Andante       /a/abba/andante+andante_20002708.html   \n",
       "2   ABBA         As Good As New        /a/abba/as+good+as+new_20003033.html   \n",
       "3   ABBA                   Bang                  /a/abba/bang_20598415.html   \n",
       "4   ABBA       Bang-A-Boomerang      /a/abba/bang+a+boomerang_20002668.html   \n",
       "\n",
       "                                                text  \n",
       "0  Look at her face, it's a wonderful face  \\r\\nA...  \n",
       "1  Take it easy with me, please  \\r\\nTouch me gen...  \n",
       "2  I'll never know why I had to go  \\r\\nWhy I had...  \n",
       "3  Making somebody happy is a question of give an...  \n",
       "4  Making somebody happy is a question of give an...  "
      ]
     },
     "execution_count": 44,
     "metadata": {},
     "output_type": "execute_result"
    }
   ],
   "source": [
    "df.head()"
   ]
  },
  {
   "cell_type": "code",
   "execution_count": 45,
   "id": "e294be87",
   "metadata": {},
   "outputs": [
    {
     "data": {
      "text/plain": [
       "(57650, 4)"
      ]
     },
     "execution_count": 45,
     "metadata": {},
     "output_type": "execute_result"
    }
   ],
   "source": [
    "df.shape # Cheack the size of dataset "
   ]
  },
  {
   "cell_type": "code",
   "execution_count": 46,
   "id": "4e60d6a2",
   "metadata": {},
   "outputs": [
    {
     "data": {
      "text/plain": [
       "artist    0\n",
       "song      0\n",
       "link      0\n",
       "text      0\n",
       "dtype: int64"
      ]
     },
     "execution_count": 46,
     "metadata": {},
     "output_type": "execute_result"
    }
   ],
   "source": [
    "df.isnull().sum()  # check if columns are empty or not "
   ]
  },
  {
   "cell_type": "code",
   "execution_count": 47,
   "id": "dc48f197",
   "metadata": {},
   "outputs": [],
   "source": [
    "df =df.sample(20000).drop('link', axis=1).reset_index(drop=True) # Rmove the links we dont want tham "
   ]
  },
  {
   "cell_type": "code",
   "execution_count": 48,
   "id": "e116c284",
   "metadata": {},
   "outputs": [
    {
     "data": {
      "text/html": [
       "<div>\n",
       "<style scoped>\n",
       "    .dataframe tbody tr th:only-of-type {\n",
       "        vertical-align: middle;\n",
       "    }\n",
       "\n",
       "    .dataframe tbody tr th {\n",
       "        vertical-align: top;\n",
       "    }\n",
       "\n",
       "    .dataframe thead th {\n",
       "        text-align: right;\n",
       "    }\n",
       "</style>\n",
       "<table border=\"1\" class=\"dataframe\">\n",
       "  <thead>\n",
       "    <tr style=\"text-align: right;\">\n",
       "      <th></th>\n",
       "      <th>artist</th>\n",
       "      <th>song</th>\n",
       "      <th>text</th>\n",
       "    </tr>\n",
       "  </thead>\n",
       "  <tbody>\n",
       "    <tr>\n",
       "      <th>0</th>\n",
       "      <td>Diana Ross</td>\n",
       "      <td>I've Got A Crush On You</td>\n",
       "      <td>How glad the many millions  \\r\\nOf Toms and Di...</td>\n",
       "    </tr>\n",
       "    <tr>\n",
       "      <th>1</th>\n",
       "      <td>Ziggy Marley</td>\n",
       "      <td>Hand To Mouth</td>\n",
       "      <td>Power to the workers  \\r\\nMore power  \\r\\nPowe...</td>\n",
       "    </tr>\n",
       "    <tr>\n",
       "      <th>2</th>\n",
       "      <td>Widespread Panic</td>\n",
       "      <td>Expiration Day</td>\n",
       "      <td>I'm a machinist at the Springfield Armory  \\r\\...</td>\n",
       "    </tr>\n",
       "    <tr>\n",
       "      <th>3</th>\n",
       "      <td>Bette Midler</td>\n",
       "      <td>Make Yourself Comfortable</td>\n",
       "      <td>I've got some records here  \\r\\nTo put you in ...</td>\n",
       "    </tr>\n",
       "    <tr>\n",
       "      <th>4</th>\n",
       "      <td>Frankie Laine</td>\n",
       "      <td>Mam'selle</td>\n",
       "      <td>It was Montmartre  \\r\\nIt was midnight Come to...</td>\n",
       "    </tr>\n",
       "    <tr>\n",
       "      <th>5</th>\n",
       "      <td>Scorpions</td>\n",
       "      <td>Polar Nights</td>\n",
       "      <td>Down, down  \\r\\nThat's bringing me down  \\r\\nT...</td>\n",
       "    </tr>\n",
       "    <tr>\n",
       "      <th>6</th>\n",
       "      <td>Bette Midler</td>\n",
       "      <td>Let It Snow! Let It Snow! Let It Snow!</td>\n",
       "      <td>Oh the weather outside is frightful,  \\r\\nBut ...</td>\n",
       "    </tr>\n",
       "    <tr>\n",
       "      <th>7</th>\n",
       "      <td>Counting Crows</td>\n",
       "      <td>Carriage</td>\n",
       "      <td>If anything it should have been a better thing...</td>\n",
       "    </tr>\n",
       "    <tr>\n",
       "      <th>8</th>\n",
       "      <td>Cher</td>\n",
       "      <td>It Gets Me Where I Want To Go</td>\n",
       "      <td>It gets me where I want to go  \\r\\n  \\r\\nIt ge...</td>\n",
       "    </tr>\n",
       "    <tr>\n",
       "      <th>9</th>\n",
       "      <td>Elton John</td>\n",
       "      <td>Hercules</td>\n",
       "      <td>Ooh I got a busted wing and a hornet sting  \\r...</td>\n",
       "    </tr>\n",
       "  </tbody>\n",
       "</table>\n",
       "</div>"
      ],
      "text/plain": [
       "             artist                                    song  \\\n",
       "0        Diana Ross                 I've Got A Crush On You   \n",
       "1      Ziggy Marley                           Hand To Mouth   \n",
       "2  Widespread Panic                          Expiration Day   \n",
       "3      Bette Midler               Make Yourself Comfortable   \n",
       "4     Frankie Laine                               Mam'selle   \n",
       "5         Scorpions                            Polar Nights   \n",
       "6      Bette Midler  Let It Snow! Let It Snow! Let It Snow!   \n",
       "7    Counting Crows                                Carriage   \n",
       "8              Cher           It Gets Me Where I Want To Go   \n",
       "9        Elton John                                Hercules   \n",
       "\n",
       "                                                text  \n",
       "0  How glad the many millions  \\r\\nOf Toms and Di...  \n",
       "1  Power to the workers  \\r\\nMore power  \\r\\nPowe...  \n",
       "2  I'm a machinist at the Springfield Armory  \\r\\...  \n",
       "3  I've got some records here  \\r\\nTo put you in ...  \n",
       "4  It was Montmartre  \\r\\nIt was midnight Come to...  \n",
       "5  Down, down  \\r\\nThat's bringing me down  \\r\\nT...  \n",
       "6  Oh the weather outside is frightful,  \\r\\nBut ...  \n",
       "7  If anything it should have been a better thing...  \n",
       "8  It gets me where I want to go  \\r\\n  \\r\\nIt ge...  \n",
       "9  Ooh I got a busted wing and a hornet sting  \\r...  "
      ]
     },
     "execution_count": 48,
     "metadata": {},
     "output_type": "execute_result"
    }
   ],
   "source": [
    "df.head(10)"
   ]
  },
  {
   "cell_type": "code",
   "execution_count": 49,
   "id": "fb366fcd",
   "metadata": {},
   "outputs": [
    {
     "data": {
      "text/plain": [
       "\"How glad the many millions  \\r\\nOf Toms and Dicks and Williams  \\r\\nWould be  \\r\\nTo capture me  \\r\\n  \\r\\nBut you had such persistence  \\r\\nYou wore down my resistance  \\r\\nI fell  \\r\\nAnd it was swell  \\r\\n  \\r\\nYou're my big and brave and handsome Romeo  \\r\\nHow I won you I will never never know  \\r\\nIt's not that you're attractive  \\r\\nBut oh my heart grew active  \\r\\nWhen you came into view  \\r\\n  \\r\\nI've got a crush on you, sweetie pie  \\r\\nAll the day and nighttime, hear me sigh  \\r\\nI never had the least notion  \\r\\nThat I could fall with so much emotion  \\r\\nTaken from  \\r\\nCould you coo  \\r\\nCould you care  \\r\\nFor a cunning cottage we could share  \\r\\nThe world will pardon my mush  \\r\\nCause I've got a crush, my baby, on you  \\r\\n  \\r\\nCould you coo  \\r\\nCould you care  \\r\\nFor a cunning cottage we could share  \\r\\nThe world will pardon my mush  \\r\\nCause I have got a crush,  \\r\\nMy baby, on you\\r\\n\\r\\n\""
      ]
     },
     "execution_count": 49,
     "metadata": {},
     "output_type": "execute_result"
    }
   ],
   "source": [
    "df['text'][0]"
   ]
  },
  {
   "cell_type": "code",
   "execution_count": 50,
   "id": "49d2c1ed",
   "metadata": {},
   "outputs": [
    {
     "data": {
      "text/plain": [
       "(20000, 3)"
      ]
     },
     "execution_count": 50,
     "metadata": {},
     "output_type": "execute_result"
    }
   ],
   "source": [
    "df.shape"
   ]
  },
  {
   "cell_type": "code",
   "execution_count": 51,
   "id": "b6e8a5b0",
   "metadata": {},
   "outputs": [],
   "source": [
    "df['text'] = df['text'].str.lower().replace(r'^\\w\\s', ' ').replace(r'\\n', ' ', regex = True) #Text cleaning and removing /r and text "
   ]
  },
  {
   "cell_type": "code",
   "execution_count": 52,
   "id": "bc119ad3",
   "metadata": {},
   "outputs": [
    {
     "data": {
      "text/html": [
       "<div>\n",
       "<style scoped>\n",
       "    .dataframe tbody tr th:only-of-type {\n",
       "        vertical-align: middle;\n",
       "    }\n",
       "\n",
       "    .dataframe tbody tr th {\n",
       "        vertical-align: top;\n",
       "    }\n",
       "\n",
       "    .dataframe thead th {\n",
       "        text-align: right;\n",
       "    }\n",
       "</style>\n",
       "<table border=\"1\" class=\"dataframe\">\n",
       "  <thead>\n",
       "    <tr style=\"text-align: right;\">\n",
       "      <th></th>\n",
       "      <th>artist</th>\n",
       "      <th>song</th>\n",
       "      <th>text</th>\n",
       "    </tr>\n",
       "  </thead>\n",
       "  <tbody>\n",
       "    <tr>\n",
       "      <th>19995</th>\n",
       "      <td>Modern Talking</td>\n",
       "      <td>It's Your Smile</td>\n",
       "      <td>i cry the whole night, just for you  \\r my tea...</td>\n",
       "    </tr>\n",
       "    <tr>\n",
       "      <th>19996</th>\n",
       "      <td>Ingrid Michaelson</td>\n",
       "      <td>Be OK</td>\n",
       "      <td>i just want to be okay, be okay, be okay  \\r i...</td>\n",
       "    </tr>\n",
       "    <tr>\n",
       "      <th>19997</th>\n",
       "      <td>Randy Travis</td>\n",
       "      <td>Highway Junkie</td>\n",
       "      <td>\\r a hundred cups of coffee, five hundred ci...</td>\n",
       "    </tr>\n",
       "    <tr>\n",
       "      <th>19998</th>\n",
       "      <td>Ian Hunter</td>\n",
       "      <td>Big Time</td>\n",
       "      <td>(ian hunter)  \\r one more town on the merry-go...</td>\n",
       "    </tr>\n",
       "    <tr>\n",
       "      <th>19999</th>\n",
       "      <td>Pogues</td>\n",
       "      <td>Love You 'till The End</td>\n",
       "      <td>i just want to see you  \\r when you're all alo...</td>\n",
       "    </tr>\n",
       "  </tbody>\n",
       "</table>\n",
       "</div>"
      ],
      "text/plain": [
       "                  artist                    song  \\\n",
       "19995     Modern Talking         It's Your Smile   \n",
       "19996  Ingrid Michaelson                   Be OK   \n",
       "19997       Randy Travis          Highway Junkie   \n",
       "19998         Ian Hunter                Big Time   \n",
       "19999             Pogues  Love You 'till The End   \n",
       "\n",
       "                                                    text  \n",
       "19995  i cry the whole night, just for you  \\r my tea...  \n",
       "19996  i just want to be okay, be okay, be okay  \\r i...  \n",
       "19997    \\r a hundred cups of coffee, five hundred ci...  \n",
       "19998  (ian hunter)  \\r one more town on the merry-go...  \n",
       "19999  i just want to see you  \\r when you're all alo...  "
      ]
     },
     "execution_count": 52,
     "metadata": {},
     "output_type": "execute_result"
    }
   ],
   "source": [
    "df.tail() #Show last 5 rows"
   ]
  },
  {
   "cell_type": "code",
   "execution_count": 53,
   "id": "e17f85c3",
   "metadata": {},
   "outputs": [
    {
     "name": "stderr",
     "output_type": "stream",
     "text": [
      "[nltk_data] Downloading package punkt to\n",
      "[nltk_data]     C:\\Users\\surya\\AppData\\Roaming\\nltk_data...\n",
      "[nltk_data]   Package punkt is already up-to-date!\n"
     ]
    }
   ],
   "source": [
    "# Tokenization \n",
    "import nltk  \n",
    "nltk.download('punkt')\n",
    "from nltk.stem.porter import PorterStemmer"
   ]
  },
  {
   "cell_type": "code",
   "execution_count": 54,
   "id": "f6a3e0b4",
   "metadata": {},
   "outputs": [],
   "source": [
    "stemmer = PorterStemmer()"
   ]
  },
  {
   "cell_type": "code",
   "execution_count": 55,
   "id": "5050e3ee",
   "metadata": {},
   "outputs": [],
   "source": [
    "def tokenization(txt):\n",
    "    tokens = nltk.word_tokenize(txt)\n",
    "    stemming = [stemmer.stem(w) for w in tokens]\n",
    "    return \" \".join(stemming)"
   ]
  },
  {
   "cell_type": "code",
   "execution_count": 56,
   "id": "74507f07",
   "metadata": {},
   "outputs": [],
   "source": [
    "df['text'] = df['text'].apply(lambda x: tokenization(x))"
   ]
  },
  {
   "cell_type": "code",
   "execution_count": 58,
   "id": "992c161e",
   "metadata": {},
   "outputs": [],
   "source": [
    "from sklearn.feature_extraction.text import TfidfVectorizer\n",
    "from sklearn.metrics.pairwise import cosine_similarity"
   ]
  },
  {
   "cell_type": "code",
   "execution_count": 59,
   "id": "dffd0c2b",
   "metadata": {},
   "outputs": [],
   "source": [
    "tfidvector = TfidfVectorizer(analyzer='word',stop_words='english')\n",
    "matrix = tfidvector.fit_transform(df['text'])\n",
    "similarity = cosine_similarity(matrix)"
   ]
  },
  {
   "cell_type": "code",
   "execution_count": 60,
   "id": "7ffb933f",
   "metadata": {},
   "outputs": [
    {
     "data": {
      "text/plain": [
       "array([1.        , 0.01483385, 0.00679951, ..., 0.02063201, 0.03535127,\n",
       "       0.0191452 ])"
      ]
     },
     "execution_count": 60,
     "metadata": {},
     "output_type": "execute_result"
    }
   ],
   "source": [
    "similarity[0]"
   ]
  },
  {
   "cell_type": "code",
   "execution_count": 64,
   "id": "184d5271",
   "metadata": {},
   "outputs": [
    {
     "data": {
      "text/html": [
       "<div>\n",
       "<style scoped>\n",
       "    .dataframe tbody tr th:only-of-type {\n",
       "        vertical-align: middle;\n",
       "    }\n",
       "\n",
       "    .dataframe tbody tr th {\n",
       "        vertical-align: top;\n",
       "    }\n",
       "\n",
       "    .dataframe thead th {\n",
       "        text-align: right;\n",
       "    }\n",
       "</style>\n",
       "<table border=\"1\" class=\"dataframe\">\n",
       "  <thead>\n",
       "    <tr style=\"text-align: right;\">\n",
       "      <th></th>\n",
       "      <th>artist</th>\n",
       "      <th>song</th>\n",
       "      <th>text</th>\n",
       "    </tr>\n",
       "  </thead>\n",
       "  <tbody>\n",
       "    <tr>\n",
       "      <th>19997</th>\n",
       "      <td>Randy Travis</td>\n",
       "      <td>Highway Junkie</td>\n",
       "      <td>a hundr cup of coffe , five hundr cigarett a t...</td>\n",
       "    </tr>\n",
       "  </tbody>\n",
       "</table>\n",
       "</div>"
      ],
      "text/plain": [
       "             artist            song  \\\n",
       "19997  Randy Travis  Highway Junkie   \n",
       "\n",
       "                                                    text  \n",
       "19997  a hundr cup of coffe , five hundr cigarett a t...  "
      ]
     },
     "execution_count": 64,
     "metadata": {},
     "output_type": "execute_result"
    }
   ],
   "source": [
    "df[df['song'] == 'Highway Junkie']"
   ]
  },
  {
   "cell_type": "markdown",
   "id": "320a953b",
   "metadata": {},
   "source": [
    "## RECOMMENDER FUNCTION "
   ]
  },
  {
   "cell_type": "code",
   "execution_count": 71,
   "id": "afdac1e0",
   "metadata": {},
   "outputs": [],
   "source": [
    "def recommendation(song_df):\n",
    "    # Check if the song exists in the DataFrame\n",
    "    if song_df not in df['song'].values:\n",
    "        return \"Song not found in the dataset\"\n",
    "    \n",
    "    # Get the index of the song\n",
    "    idx = df[df['song'] == song_df].index[0]\n",
    "    \n",
    "    # Check if the index is valid\n",
    "    if idx >= len(similarity):\n",
    "        return \"Invalid index\"\n",
    "    \n",
    "    # Sort similarities and get top 20 similar songs\n",
    "    distances = sorted(enumerate(similarity[idx]), reverse=True, key=lambda x: x[1])\n",
    "    songs = [df.iloc[m_id[0]].song for m_id in distances[1:21]]\n",
    "    \n",
    "    return songs\n"
   ]
  },
  {
   "cell_type": "code",
   "execution_count": 72,
   "id": "9ae05d89",
   "metadata": {},
   "outputs": [
    {
     "data": {
      "text/plain": [
       "['Road Beneath My Wheels',\n",
       " 'Heading Out To The Highway',\n",
       " 'Give Me The Highway',\n",
       " 'Highway To Hell',\n",
       " 'Rub Me Raw',\n",
       " 'Junkie',\n",
       " 'Burn Out',\n",
       " 'Radio',\n",
       " \"Highway Don't Care\",\n",
       " 'Key To The Highway',\n",
       " \"I've Got A Name\",\n",
       " 'Nothing Like A Hundred Miles',\n",
       " \"I'm Gonna Be A Wheel Someday\",\n",
       " 'American Beauty',\n",
       " \"I Won't Cry For You\",\n",
       " 'Key To The Highway',\n",
       " 'Wheel Of Fortune',\n",
       " 'Real Thing',\n",
       " \"It's My Life\",\n",
       " 'On The Line']"
      ]
     },
     "execution_count": 72,
     "metadata": {},
     "output_type": "execute_result"
    }
   ],
   "source": [
    "recommendation('Highway Junkie')"
   ]
  },
  {
   "cell_type": "code",
   "execution_count": 74,
   "id": "3d6d811d",
   "metadata": {},
   "outputs": [],
   "source": [
    "# storing the file\n",
    "import pickle\n",
    "pickle.dump(similarity,open('similarity.pkl','wb'))\n",
    "pickle.dump(df,open('df.pkl','wb'))"
   ]
  },
  {
   "cell_type": "code",
   "execution_count": null,
   "id": "7b3a3810",
   "metadata": {},
   "outputs": [],
   "source": []
  }
 ],
 "metadata": {
  "kernelspec": {
   "display_name": "Python 3 (ipykernel)",
   "language": "python",
   "name": "python3"
  },
  "language_info": {
   "codemirror_mode": {
    "name": "ipython",
    "version": 3
   },
   "file_extension": ".py",
   "mimetype": "text/x-python",
   "name": "python",
   "nbconvert_exporter": "python",
   "pygments_lexer": "ipython3",
   "version": "3.11.5"
  }
 },
 "nbformat": 4,
 "nbformat_minor": 5
}
